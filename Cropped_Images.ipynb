{
 "cells": [
  {
   "cell_type": "code",
   "execution_count": 61,
   "metadata": {},
   "outputs": [],
   "source": [
    "import os\n",
    "import numpy as np\n",
    "import pandas as pd\n",
    "import json\n",
    "import glob"
   ]
  },
  {
   "cell_type": "code",
   "execution_count": 62,
   "metadata": {},
   "outputs": [],
   "source": [
    "import matplotlib.pyplot as plt\n",
    "from pathlib import Path\n",
    "from collections import Counter"
   ]
  },
  {
   "cell_type": "code",
   "execution_count": 63,
   "metadata": {},
   "outputs": [],
   "source": [
    "import tensorflow as tf\n",
    "from tensorflow import keras\n",
    "from tensorflow.keras import layers\n",
    "import cv2"
   ]
  },
  {
   "cell_type": "code",
   "execution_count": 64,
   "metadata": {},
   "outputs": [],
   "source": [
    "from pandas.io.json import json_normalize"
   ]
  },
  {
   "cell_type": "code",
   "execution_count": 65,
   "metadata": {},
   "outputs": [
    {
     "name": "stderr",
     "output_type": "stream",
     "text": [
      "/home/dsc_intern_1/Downloads/home/dsc_intern_1/anaconda3/lib/python3.7/site-packages/ipykernel_launcher.py:1: FutureWarning: Passing a negative integer is deprecated in version 1.0 and will not be supported in future version. Instead, use None to not limit the column width.\n",
      "  \"\"\"Entry point for launching an IPython kernel.\n"
     ]
    }
   ],
   "source": [
    "pd.set_option('display.max_colwidth',-1)"
   ]
  },
  {
   "cell_type": "markdown",
   "metadata": {},
   "source": [
    "                                  # READING CSV FILES"
   ]
  },
  {
   "cell_type": "code",
   "execution_count": 66,
   "metadata": {
    "scrolled": true
   },
   "outputs": [
    {
     "name": "stdout",
     "output_type": "stream",
     "text": [
      "                                 filename  file_size file_attributes  \\\n",
      "0    O89814_1557575504490_stopTrip_1.png   80528      {\"\":\"\"}          \n",
      "1    O89814_1557553779256_startTrip_1.png  59711      {\"\":\"\"}          \n",
      "2    O89781_1559190644914_stopTrip.png     55902      {\"\":\"\"}          \n",
      "3    O89781_1557723255642_startTrip_1.png  74799      {\"\":\"\"}          \n",
      "4    O89781_1557638579350_startTrip_1.png  66799      {\"\":\"\"}          \n",
      "..                                    ...    ...          ...          \n",
      "188  60113_1557571017493_stopTrip.png      31434      {\"\":\"\"}          \n",
      "189  60113_1557554351888_startTrip.png     28043      {\"\":\"\"}          \n",
      "190  58181_1557662847787_stopTrip_1.png    112799     {\"\":\"\"}          \n",
      "191  58181_1557638515916_startTrip.png     76056      {\"\":\"\"}          \n",
      "192  58181_1557548321342_startTrip_1.png   129716     {\"\":\"\"}          \n",
      "\n",
      "     region_count  region_id  \\\n",
      "0    1             0           \n",
      "1    1             0           \n",
      "2    1             0           \n",
      "3    1             0           \n",
      "4    1             0           \n",
      "..  ..            ..           \n",
      "188  1             0           \n",
      "189  1             0           \n",
      "190  1             0           \n",
      "191  1             0           \n",
      "192  1             0           \n",
      "\n",
      "                                     region_shape_attributes  \\\n",
      "0    {\"name\":\"rect\",\"x\":77,\"y\":264,\"width\":142,\"height\":54}    \n",
      "1    {\"name\":\"rect\",\"x\":107,\"y\":233,\"width\":122,\"height\":53}   \n",
      "2    {\"name\":\"rect\",\"x\":88,\"y\":83,\"width\":200,\"height\":86}     \n",
      "3    {\"name\":\"rect\",\"x\":82,\"y\":271,\"width\":166,\"height\":67}    \n",
      "4    {\"name\":\"rect\",\"x\":33,\"y\":280,\"width\":165,\"height\":59}    \n",
      "..                                                      ...    \n",
      "188  {\"name\":\"rect\",\"x\":72,\"y\":129,\"width\":555,\"height\":162}   \n",
      "189  {\"name\":\"rect\",\"x\":133,\"y\":98,\"width\":553,\"height\":153}   \n",
      "190  {\"name\":\"rect\",\"x\":251,\"y\":253,\"width\":150,\"height\":59}   \n",
      "191  {\"name\":\"rect\",\"x\":295,\"y\":426,\"width\":164,\"height\":66}   \n",
      "192  {\"name\":\"rect\",\"x\":174,\"y\":276,\"width\":139,\"height\":56}   \n",
      "\n",
      "           region_attributes  \n",
      "0    {\"name\":\"188898\",\"\":\"\"}  \n",
      "1    {\"name\":\"188284\",\"\":\"\"}  \n",
      "2    {\"name\":\"404798\",\"\":\"\"}  \n",
      "3    {\"name\":\"389804\",\"\":\"\"}  \n",
      "4    {\"name\":\"388980\",\"\":\"\"}  \n",
      "..                       ...  \n",
      "188  {\"name\":\"018095\",\"\":\"\"}  \n",
      "189  {\"name\":\"018062\",\"\":\"\"}  \n",
      "190  {\"name\":\"342650\",\"\":\"\"}  \n",
      "191  {\"name\":\"341687\",\"\":\"\"}  \n",
      "192  {\"name\":\"340393\",\"\":\"\"}  \n",
      "\n",
      "[193 rows x 7 columns]\n"
     ]
    }
   ],
   "source": [
    "data1 = pd.read_csv(\"/home/dsc_intern_1/ayush/Automated_Odometer_Reading_Model/via_project_8Oct2020_12h32m_csv.csv\")\n",
    "print(data1)"
   ]
  },
  {
   "cell_type": "code",
   "execution_count": 67,
   "metadata": {},
   "outputs": [],
   "source": [
    "data1['x'] = data1['region_shape_attributes']"
   ]
  },
  {
   "cell_type": "code",
   "execution_count": 68,
   "metadata": {},
   "outputs": [
    {
     "name": "stdout",
     "output_type": "stream",
     "text": [
      "                                filename  file_size file_attributes  \\\n",
      "0    49113_1557632177050_startTrip_1.png  138527     {\"\":\"\"}          \n",
      "1    49113_1557570178810_stopTrip_1.png   87667      {\"\":\"\"}          \n",
      "2    49113_1557546660371_startTrip_1.png  153142     {\"\":\"\"}          \n",
      "3    49068_1557718291556_startTrip_1.png  94327      {\"\":\"\"}          \n",
      "4    49062_1557484903233_stopTrip_1.png   101951     {\"\":\"\"}          \n",
      "..                                  ...      ...         ...          \n",
      "352  51824_1557641976979_startTrip_1.png  175066     {\"\":\"\"}          \n",
      "353  51824_1557555859292_startTrip_1.png  119064     {\"\":\"\"}          \n",
      "354  51690_1557924695750_stopTrip_1.png   84441      {\"\":\"\"}          \n",
      "355  51690_1557744400653_startTrip_1.png  93844      {\"\":\"\"}          \n",
      "356  51690_1557744284043_stopTrip_1.png   103587     {\"\":\"\"}          \n",
      "\n",
      "     region_count  region_id  \\\n",
      "0    1             0           \n",
      "1    1             0           \n",
      "2    1             0           \n",
      "3    1             0           \n",
      "4    1             0           \n",
      "..  ..            ..           \n",
      "352  1             0           \n",
      "353  1             0           \n",
      "354  1             0           \n",
      "355  1             0           \n",
      "356  1             0           \n",
      "\n",
      "                                     region_shape_attributes  \\\n",
      "0    {\"name\":\"rect\",\"x\":32,\"y\":360,\"width\":173,\"height\":66}    \n",
      "1    {\"name\":\"rect\",\"x\":8,\"y\":208,\"width\":190,\"height\":69}     \n",
      "2    {\"name\":\"rect\",\"x\":100,\"y\":356,\"width\":209,\"height\":73}   \n",
      "3    {\"name\":\"rect\",\"x\":126,\"y\":211,\"width\":234,\"height\":80}   \n",
      "4    {\"name\":\"rect\",\"x\":207,\"y\":248,\"width\":143,\"height\":50}   \n",
      "..                                                       ...   \n",
      "352  {\"name\":\"rect\",\"x\":569,\"y\":249,\"width\":207,\"height\":76}   \n",
      "353  {\"name\":\"rect\",\"x\":236,\"y\":287,\"width\":179,\"height\":77}   \n",
      "354  {\"name\":\"rect\",\"x\":290,\"y\":121,\"width\":120,\"height\":41}   \n",
      "355  {\"name\":\"rect\",\"x\":296,\"y\":142,\"width\":129,\"height\":46}   \n",
      "356  {\"name\":\"rect\",\"x\":298,\"y\":17,\"width\":255,\"height\":102}   \n",
      "\n",
      "           region_attributes  \n",
      "0    {\"name\":\"340639\",\"\":\"\"}  \n",
      "1    {\"name\":\"340604\",\"\":\"\"}  \n",
      "2    {\"name\":\"339851\",\"\":\"\"}  \n",
      "3    {\"name\":\"030601\",\"\":\"\"}  \n",
      "4    {\"name\":\"659959\",\"\":\"\"}  \n",
      "..                       ...  \n",
      "352  {\"name\":\"689312\",\"\":\"\"}  \n",
      "353  {\"name\":\"689139\",\"\":\"\"}  \n",
      "354  {\"name\":\"542724\",\"\":\"\"}  \n",
      "355  {\"name\":\"540319\",\"\":\"\"}  \n",
      "356  {\"name\":\"540319\",\"\":\"\"}  \n",
      "\n",
      "[357 rows x 7 columns]\n"
     ]
    }
   ],
   "source": [
    "data2 = pd.read_csv(\"/home/dsc_intern_1/ayush/Automated_Odometer_Reading_Model/via_project_14Oct2020_22h6m_csv(2).csv\")\n",
    "print(data2)"
   ]
  },
  {
   "cell_type": "markdown",
   "metadata": {},
   "source": [
    "                                    # CONCAT BOTH THE CSV FILES"
   ]
  },
  {
   "cell_type": "code",
   "execution_count": 69,
   "metadata": {},
   "outputs": [
    {
     "name": "stdout",
     "output_type": "stream",
     "text": [
      "550\n"
     ]
    }
   ],
   "source": [
    "data = pd.concat([data1,data2])\n",
    "print(len(data))"
   ]
  },
  {
   "cell_type": "code",
   "execution_count": 70,
   "metadata": {},
   "outputs": [
    {
     "name": "stdout",
     "output_type": "stream",
     "text": [
      "550\n"
     ]
    }
   ],
   "source": [
    "print(len(data))"
   ]
  },
  {
   "cell_type": "code",
   "execution_count": 71,
   "metadata": {},
   "outputs": [
    {
     "data": {
      "text/plain": [
       "pandas.core.series.Series"
      ]
     },
     "execution_count": 71,
     "metadata": {},
     "output_type": "execute_result"
    }
   ],
   "source": [
    "type(data[\"region_attributes\"])"
   ]
  },
  {
   "cell_type": "raw",
   "metadata": {},
   "source": [
    "            # DICT COLUMN i.e. \"region_shape_attributes\" TO MULTIPLE COLUMNS i.e. x,y,width & height"
   ]
  },
  {
   "cell_type": "code",
   "execution_count": 72,
   "metadata": {},
   "outputs": [],
   "source": [
    "import ast \n",
    "def image_attributes(d):\n",
    "    d = ast.literal_eval(d)\n",
    "    try:\n",
    "        return d['x'], d['y'], d['width'], d['height']\n",
    "    except:\n",
    "        return None, None, None, None"
   ]
  },
  {
   "cell_type": "code",
   "execution_count": 73,
   "metadata": {},
   "outputs": [],
   "source": [
    "data['x'], data['y'], data['width'], data['height'] = zip(*data['region_shape_attributes'].map(image_attributes))"
   ]
  },
  {
   "cell_type": "code",
   "execution_count": 74,
   "metadata": {},
   "outputs": [
    {
     "data": {
      "text/html": [
       "<div>\n",
       "<style scoped>\n",
       "    .dataframe tbody tr th:only-of-type {\n",
       "        vertical-align: middle;\n",
       "    }\n",
       "\n",
       "    .dataframe tbody tr th {\n",
       "        vertical-align: top;\n",
       "    }\n",
       "\n",
       "    .dataframe thead th {\n",
       "        text-align: right;\n",
       "    }\n",
       "</style>\n",
       "<table border=\"1\" class=\"dataframe\">\n",
       "  <thead>\n",
       "    <tr style=\"text-align: right;\">\n",
       "      <th></th>\n",
       "      <th>filename</th>\n",
       "      <th>file_size</th>\n",
       "      <th>file_attributes</th>\n",
       "      <th>region_count</th>\n",
       "      <th>region_id</th>\n",
       "      <th>region_shape_attributes</th>\n",
       "      <th>region_attributes</th>\n",
       "      <th>x</th>\n",
       "      <th>y</th>\n",
       "      <th>width</th>\n",
       "      <th>height</th>\n",
       "    </tr>\n",
       "  </thead>\n",
       "  <tbody>\n",
       "    <tr>\n",
       "      <th>0</th>\n",
       "      <td>O89814_1557575504490_stopTrip_1.png</td>\n",
       "      <td>80528</td>\n",
       "      <td>{\"\":\"\"}</td>\n",
       "      <td>1</td>\n",
       "      <td>0</td>\n",
       "      <td>{\"name\":\"rect\",\"x\":77,\"y\":264,\"width\":142,\"height\":54}</td>\n",
       "      <td>{\"name\":\"188898\",\"\":\"\"}</td>\n",
       "      <td>77</td>\n",
       "      <td>264</td>\n",
       "      <td>142</td>\n",
       "      <td>54</td>\n",
       "    </tr>\n",
       "    <tr>\n",
       "      <th>1</th>\n",
       "      <td>O89814_1557553779256_startTrip_1.png</td>\n",
       "      <td>59711</td>\n",
       "      <td>{\"\":\"\"}</td>\n",
       "      <td>1</td>\n",
       "      <td>0</td>\n",
       "      <td>{\"name\":\"rect\",\"x\":107,\"y\":233,\"width\":122,\"height\":53}</td>\n",
       "      <td>{\"name\":\"188284\",\"\":\"\"}</td>\n",
       "      <td>107</td>\n",
       "      <td>233</td>\n",
       "      <td>122</td>\n",
       "      <td>53</td>\n",
       "    </tr>\n",
       "    <tr>\n",
       "      <th>2</th>\n",
       "      <td>O89781_1559190644914_stopTrip.png</td>\n",
       "      <td>55902</td>\n",
       "      <td>{\"\":\"\"}</td>\n",
       "      <td>1</td>\n",
       "      <td>0</td>\n",
       "      <td>{\"name\":\"rect\",\"x\":88,\"y\":83,\"width\":200,\"height\":86}</td>\n",
       "      <td>{\"name\":\"404798\",\"\":\"\"}</td>\n",
       "      <td>88</td>\n",
       "      <td>83</td>\n",
       "      <td>200</td>\n",
       "      <td>86</td>\n",
       "    </tr>\n",
       "    <tr>\n",
       "      <th>3</th>\n",
       "      <td>O89781_1557723255642_startTrip_1.png</td>\n",
       "      <td>74799</td>\n",
       "      <td>{\"\":\"\"}</td>\n",
       "      <td>1</td>\n",
       "      <td>0</td>\n",
       "      <td>{\"name\":\"rect\",\"x\":82,\"y\":271,\"width\":166,\"height\":67}</td>\n",
       "      <td>{\"name\":\"389804\",\"\":\"\"}</td>\n",
       "      <td>82</td>\n",
       "      <td>271</td>\n",
       "      <td>166</td>\n",
       "      <td>67</td>\n",
       "    </tr>\n",
       "    <tr>\n",
       "      <th>4</th>\n",
       "      <td>O89781_1557638579350_startTrip_1.png</td>\n",
       "      <td>66799</td>\n",
       "      <td>{\"\":\"\"}</td>\n",
       "      <td>1</td>\n",
       "      <td>0</td>\n",
       "      <td>{\"name\":\"rect\",\"x\":33,\"y\":280,\"width\":165,\"height\":59}</td>\n",
       "      <td>{\"name\":\"388980\",\"\":\"\"}</td>\n",
       "      <td>33</td>\n",
       "      <td>280</td>\n",
       "      <td>165</td>\n",
       "      <td>59</td>\n",
       "    </tr>\n",
       "  </tbody>\n",
       "</table>\n",
       "</div>"
      ],
      "text/plain": [
       "                               filename  file_size file_attributes  \\\n",
       "0  O89814_1557575504490_stopTrip_1.png   80528      {\"\":\"\"}          \n",
       "1  O89814_1557553779256_startTrip_1.png  59711      {\"\":\"\"}          \n",
       "2  O89781_1559190644914_stopTrip.png     55902      {\"\":\"\"}          \n",
       "3  O89781_1557723255642_startTrip_1.png  74799      {\"\":\"\"}          \n",
       "4  O89781_1557638579350_startTrip_1.png  66799      {\"\":\"\"}          \n",
       "\n",
       "   region_count  region_id  \\\n",
       "0  1             0           \n",
       "1  1             0           \n",
       "2  1             0           \n",
       "3  1             0           \n",
       "4  1             0           \n",
       "\n",
       "                                   region_shape_attributes  \\\n",
       "0  {\"name\":\"rect\",\"x\":77,\"y\":264,\"width\":142,\"height\":54}    \n",
       "1  {\"name\":\"rect\",\"x\":107,\"y\":233,\"width\":122,\"height\":53}   \n",
       "2  {\"name\":\"rect\",\"x\":88,\"y\":83,\"width\":200,\"height\":86}     \n",
       "3  {\"name\":\"rect\",\"x\":82,\"y\":271,\"width\":166,\"height\":67}    \n",
       "4  {\"name\":\"rect\",\"x\":33,\"y\":280,\"width\":165,\"height\":59}    \n",
       "\n",
       "         region_attributes    x    y width height  \n",
       "0  {\"name\":\"188898\",\"\":\"\"}  77   264  142   54     \n",
       "1  {\"name\":\"188284\",\"\":\"\"}  107  233  122   53     \n",
       "2  {\"name\":\"404798\",\"\":\"\"}  88   83   200   86     \n",
       "3  {\"name\":\"389804\",\"\":\"\"}  82   271  166   67     \n",
       "4  {\"name\":\"388980\",\"\":\"\"}  33   280  165   59     "
      ]
     },
     "execution_count": 74,
     "metadata": {},
     "output_type": "execute_result"
    }
   ],
   "source": [
    "data.head()"
   ]
  },
  {
   "cell_type": "raw",
   "metadata": {},
   "source": [
    "                                   # REMOVE DICT COLUMN i.e. \"region_shape_attributes\""
   ]
  },
  {
   "cell_type": "code",
   "execution_count": 75,
   "metadata": {},
   "outputs": [],
   "source": [
    "data.drop(columns=['region_shape_attributes'],inplace=True)"
   ]
  },
  {
   "cell_type": "raw",
   "metadata": {},
   "source": [
    "                                    # Drop NONE Type Value"
   ]
  },
  {
   "cell_type": "code",
   "execution_count": 16,
   "metadata": {},
   "outputs": [],
   "source": [
    "data = data.dropna(subset=['x'])"
   ]
  },
  {
   "cell_type": "code",
   "execution_count": 17,
   "metadata": {},
   "outputs": [
    {
     "name": "stdout",
     "output_type": "stream",
     "text": [
      "549\n"
     ]
    }
   ],
   "source": [
    "print(len(data))"
   ]
  },
  {
   "cell_type": "raw",
   "metadata": {},
   "source": [
    "                  # READ THE ORIGINAL IMAGE FOLDER AND CROPPED ALL THE IMAGES THROUGH x,y,width & height columns"
   ]
  },
  {
   "cell_type": "code",
   "execution_count": 49,
   "metadata": {},
   "outputs": [],
   "source": [
    "images = [cv2.imread(file) for file in glob.glob(\"/home/dsc_intern_1/ayush/Automated_Odometer_Reading_Model/Raw_Images/*.png\")]"
   ]
  },
  {
   "cell_type": "raw",
   "metadata": {},
   "source": [
    "                  # RENAME ALL THE CROPPED IMAGES THROUGH 'attributes' COLUMNS"
   ]
  },
  {
   "cell_type": "code",
   "execution_count": 76,
   "metadata": {
    "scrolled": true
   },
   "outputs": [
    {
     "ename": "KeyError",
     "evalue": "'attributes'",
     "output_type": "error",
     "traceback": [
      "\u001b[0;31m---------------------------------------------------------------------------\u001b[0m",
      "\u001b[0;31mTypeError\u001b[0m                                 Traceback (most recent call last)",
      "\u001b[0;32m~/Downloads/home/dsc_intern_1/anaconda3/lib/python3.7/site-packages/pandas/core/indexes/base.py\u001b[0m in \u001b[0;36mget_value\u001b[0;34m(self, series, key)\u001b[0m\n\u001b[1;32m   4410\u001b[0m             \u001b[0;32mtry\u001b[0m\u001b[0;34m:\u001b[0m\u001b[0;34m\u001b[0m\u001b[0;34m\u001b[0m\u001b[0m\n\u001b[0;32m-> 4411\u001b[0;31m                 \u001b[0;32mreturn\u001b[0m \u001b[0mlibindex\u001b[0m\u001b[0;34m.\u001b[0m\u001b[0mget_value_at\u001b[0m\u001b[0;34m(\u001b[0m\u001b[0ms\u001b[0m\u001b[0;34m,\u001b[0m \u001b[0mkey\u001b[0m\u001b[0;34m)\u001b[0m\u001b[0;34m\u001b[0m\u001b[0;34m\u001b[0m\u001b[0m\n\u001b[0m\u001b[1;32m   4412\u001b[0m             \u001b[0;32mexcept\u001b[0m \u001b[0mIndexError\u001b[0m\u001b[0;34m:\u001b[0m\u001b[0;34m\u001b[0m\u001b[0;34m\u001b[0m\u001b[0m\n",
      "\u001b[0;32mpandas/_libs/index.pyx\u001b[0m in \u001b[0;36mpandas._libs.index.get_value_at\u001b[0;34m()\u001b[0m\n",
      "\u001b[0;32mpandas/_libs/index.pyx\u001b[0m in \u001b[0;36mpandas._libs.index.get_value_at\u001b[0;34m()\u001b[0m\n",
      "\u001b[0;32mpandas/_libs/util.pxd\u001b[0m in \u001b[0;36mpandas._libs.util.get_value_at\u001b[0;34m()\u001b[0m\n",
      "\u001b[0;32mpandas/_libs/util.pxd\u001b[0m in \u001b[0;36mpandas._libs.util.validate_indexer\u001b[0;34m()\u001b[0m\n",
      "\u001b[0;31mTypeError\u001b[0m: 'str' object cannot be interpreted as an integer",
      "\nDuring handling of the above exception, another exception occurred:\n",
      "\u001b[0;31mKeyError\u001b[0m                                  Traceback (most recent call last)",
      "\u001b[0;32m<ipython-input-76-22c847583599>\u001b[0m in \u001b[0;36m<module>\u001b[0;34m\u001b[0m\n\u001b[1;32m      3\u001b[0m     \u001b[0mimg\u001b[0m \u001b[0;34m=\u001b[0m \u001b[0mcv2\u001b[0m\u001b[0;34m.\u001b[0m\u001b[0mimread\u001b[0m\u001b[0;34m(\u001b[0m\u001b[0mimage_path\u001b[0m\u001b[0;34m)\u001b[0m\u001b[0;34m\u001b[0m\u001b[0;34m\u001b[0m\u001b[0m\n\u001b[1;32m      4\u001b[0m     \u001b[0mcrop\u001b[0m \u001b[0;34m=\u001b[0m \u001b[0mimg\u001b[0m\u001b[0;34m[\u001b[0m\u001b[0mrow\u001b[0m\u001b[0;34m[\u001b[0m\u001b[0;34m'y'\u001b[0m\u001b[0;34m]\u001b[0m\u001b[0;34m:\u001b[0m\u001b[0mrow\u001b[0m\u001b[0;34m[\u001b[0m\u001b[0;34m'y'\u001b[0m\u001b[0;34m]\u001b[0m\u001b[0;34m+\u001b[0m\u001b[0mrow\u001b[0m\u001b[0;34m[\u001b[0m\u001b[0;34m'height'\u001b[0m\u001b[0;34m]\u001b[0m\u001b[0;34m,\u001b[0m\u001b[0mrow\u001b[0m\u001b[0;34m[\u001b[0m\u001b[0;34m'x'\u001b[0m\u001b[0;34m]\u001b[0m\u001b[0;34m:\u001b[0m\u001b[0mrow\u001b[0m\u001b[0;34m[\u001b[0m\u001b[0;34m'x'\u001b[0m\u001b[0;34m]\u001b[0m\u001b[0;34m+\u001b[0m\u001b[0mrow\u001b[0m\u001b[0;34m[\u001b[0m\u001b[0;34m'width'\u001b[0m\u001b[0;34m]\u001b[0m\u001b[0;34m]\u001b[0m\u001b[0;34m\u001b[0m\u001b[0;34m\u001b[0m\u001b[0m\n\u001b[0;32m----> 5\u001b[0;31m     \u001b[0mcv2\u001b[0m\u001b[0;34m.\u001b[0m\u001b[0mimwrite\u001b[0m\u001b[0;34m(\u001b[0m\u001b[0mos\u001b[0m\u001b[0;34m.\u001b[0m\u001b[0mpath\u001b[0m\u001b[0;34m.\u001b[0m\u001b[0mjoin\u001b[0m\u001b[0;34m(\u001b[0m\u001b[0;34m\"/home/dsc_intern_1/ayush/Automated_Odometer_Reading_Model/Cropped_Images\"\u001b[0m\u001b[0;34m,\u001b[0m \u001b[0mrow\u001b[0m\u001b[0;34m[\u001b[0m\u001b[0;34m'attributes'\u001b[0m\u001b[0;34m]\u001b[0m\u001b[0;34m+\u001b[0m\u001b[0;34m'.jpg'\u001b[0m\u001b[0;34m)\u001b[0m\u001b[0;34m,\u001b[0m \u001b[0mcrop\u001b[0m\u001b[0;34m)\u001b[0m\u001b[0;34m\u001b[0m\u001b[0;34m\u001b[0m\u001b[0m\n\u001b[0m",
      "\u001b[0;32m~/Downloads/home/dsc_intern_1/anaconda3/lib/python3.7/site-packages/pandas/core/series.py\u001b[0m in \u001b[0;36m__getitem__\u001b[0;34m(self, key)\u001b[0m\n\u001b[1;32m    869\u001b[0m         \u001b[0mkey\u001b[0m \u001b[0;34m=\u001b[0m \u001b[0mcom\u001b[0m\u001b[0;34m.\u001b[0m\u001b[0mapply_if_callable\u001b[0m\u001b[0;34m(\u001b[0m\u001b[0mkey\u001b[0m\u001b[0;34m,\u001b[0m \u001b[0mself\u001b[0m\u001b[0;34m)\u001b[0m\u001b[0;34m\u001b[0m\u001b[0;34m\u001b[0m\u001b[0m\n\u001b[1;32m    870\u001b[0m         \u001b[0;32mtry\u001b[0m\u001b[0;34m:\u001b[0m\u001b[0;34m\u001b[0m\u001b[0;34m\u001b[0m\u001b[0m\n\u001b[0;32m--> 871\u001b[0;31m             \u001b[0mresult\u001b[0m \u001b[0;34m=\u001b[0m \u001b[0mself\u001b[0m\u001b[0;34m.\u001b[0m\u001b[0mindex\u001b[0m\u001b[0;34m.\u001b[0m\u001b[0mget_value\u001b[0m\u001b[0;34m(\u001b[0m\u001b[0mself\u001b[0m\u001b[0;34m,\u001b[0m \u001b[0mkey\u001b[0m\u001b[0;34m)\u001b[0m\u001b[0;34m\u001b[0m\u001b[0;34m\u001b[0m\u001b[0m\n\u001b[0m\u001b[1;32m    872\u001b[0m \u001b[0;34m\u001b[0m\u001b[0m\n\u001b[1;32m    873\u001b[0m             \u001b[0;32mif\u001b[0m \u001b[0;32mnot\u001b[0m \u001b[0mis_scalar\u001b[0m\u001b[0;34m(\u001b[0m\u001b[0mresult\u001b[0m\u001b[0;34m)\u001b[0m\u001b[0;34m:\u001b[0m\u001b[0;34m\u001b[0m\u001b[0;34m\u001b[0m\u001b[0m\n",
      "\u001b[0;32m~/Downloads/home/dsc_intern_1/anaconda3/lib/python3.7/site-packages/pandas/core/indexes/base.py\u001b[0m in \u001b[0;36mget_value\u001b[0;34m(self, series, key)\u001b[0m\n\u001b[1;32m   4417\u001b[0m                     \u001b[0;32mraise\u001b[0m \u001b[0mInvalidIndexError\u001b[0m\u001b[0;34m(\u001b[0m\u001b[0mkey\u001b[0m\u001b[0;34m)\u001b[0m\u001b[0;34m\u001b[0m\u001b[0;34m\u001b[0m\u001b[0m\n\u001b[1;32m   4418\u001b[0m                 \u001b[0;32melse\u001b[0m\u001b[0;34m:\u001b[0m\u001b[0;34m\u001b[0m\u001b[0;34m\u001b[0m\u001b[0m\n\u001b[0;32m-> 4419\u001b[0;31m                     \u001b[0;32mraise\u001b[0m \u001b[0me1\u001b[0m\u001b[0;34m\u001b[0m\u001b[0;34m\u001b[0m\u001b[0m\n\u001b[0m\u001b[1;32m   4420\u001b[0m             \u001b[0;32mexcept\u001b[0m \u001b[0mException\u001b[0m\u001b[0;34m:\u001b[0m\u001b[0;34m\u001b[0m\u001b[0;34m\u001b[0m\u001b[0m\n\u001b[1;32m   4421\u001b[0m                 \u001b[0;32mraise\u001b[0m \u001b[0me1\u001b[0m\u001b[0;34m\u001b[0m\u001b[0;34m\u001b[0m\u001b[0m\n",
      "\u001b[0;32m~/Downloads/home/dsc_intern_1/anaconda3/lib/python3.7/site-packages/pandas/core/indexes/base.py\u001b[0m in \u001b[0;36mget_value\u001b[0;34m(self, series, key)\u001b[0m\n\u001b[1;32m   4403\u001b[0m         \u001b[0mk\u001b[0m \u001b[0;34m=\u001b[0m \u001b[0mself\u001b[0m\u001b[0;34m.\u001b[0m\u001b[0m_convert_scalar_indexer\u001b[0m\u001b[0;34m(\u001b[0m\u001b[0mk\u001b[0m\u001b[0;34m,\u001b[0m \u001b[0mkind\u001b[0m\u001b[0;34m=\u001b[0m\u001b[0;34m\"getitem\"\u001b[0m\u001b[0;34m)\u001b[0m\u001b[0;34m\u001b[0m\u001b[0;34m\u001b[0m\u001b[0m\n\u001b[1;32m   4404\u001b[0m         \u001b[0;32mtry\u001b[0m\u001b[0;34m:\u001b[0m\u001b[0;34m\u001b[0m\u001b[0;34m\u001b[0m\u001b[0m\n\u001b[0;32m-> 4405\u001b[0;31m             \u001b[0;32mreturn\u001b[0m \u001b[0mself\u001b[0m\u001b[0;34m.\u001b[0m\u001b[0m_engine\u001b[0m\u001b[0;34m.\u001b[0m\u001b[0mget_value\u001b[0m\u001b[0;34m(\u001b[0m\u001b[0ms\u001b[0m\u001b[0;34m,\u001b[0m \u001b[0mk\u001b[0m\u001b[0;34m,\u001b[0m \u001b[0mtz\u001b[0m\u001b[0;34m=\u001b[0m\u001b[0mgetattr\u001b[0m\u001b[0;34m(\u001b[0m\u001b[0mseries\u001b[0m\u001b[0;34m.\u001b[0m\u001b[0mdtype\u001b[0m\u001b[0;34m,\u001b[0m \u001b[0;34m\"tz\"\u001b[0m\u001b[0;34m,\u001b[0m \u001b[0;32mNone\u001b[0m\u001b[0;34m)\u001b[0m\u001b[0;34m)\u001b[0m\u001b[0;34m\u001b[0m\u001b[0;34m\u001b[0m\u001b[0m\n\u001b[0m\u001b[1;32m   4406\u001b[0m         \u001b[0;32mexcept\u001b[0m \u001b[0mKeyError\u001b[0m \u001b[0;32mas\u001b[0m \u001b[0me1\u001b[0m\u001b[0;34m:\u001b[0m\u001b[0;34m\u001b[0m\u001b[0;34m\u001b[0m\u001b[0m\n\u001b[1;32m   4407\u001b[0m             \u001b[0;32mif\u001b[0m \u001b[0mlen\u001b[0m\u001b[0;34m(\u001b[0m\u001b[0mself\u001b[0m\u001b[0;34m)\u001b[0m \u001b[0;34m>\u001b[0m \u001b[0;36m0\u001b[0m \u001b[0;32mand\u001b[0m \u001b[0;34m(\u001b[0m\u001b[0mself\u001b[0m\u001b[0;34m.\u001b[0m\u001b[0mholds_integer\u001b[0m\u001b[0;34m(\u001b[0m\u001b[0;34m)\u001b[0m \u001b[0;32mor\u001b[0m \u001b[0mself\u001b[0m\u001b[0;34m.\u001b[0m\u001b[0mis_boolean\u001b[0m\u001b[0;34m(\u001b[0m\u001b[0;34m)\u001b[0m\u001b[0;34m)\u001b[0m\u001b[0;34m:\u001b[0m\u001b[0;34m\u001b[0m\u001b[0;34m\u001b[0m\u001b[0m\n",
      "\u001b[0;32mpandas/_libs/index.pyx\u001b[0m in \u001b[0;36mpandas._libs.index.IndexEngine.get_value\u001b[0;34m()\u001b[0m\n",
      "\u001b[0;32mpandas/_libs/index.pyx\u001b[0m in \u001b[0;36mpandas._libs.index.IndexEngine.get_value\u001b[0;34m()\u001b[0m\n",
      "\u001b[0;32mpandas/_libs/index.pyx\u001b[0m in \u001b[0;36mpandas._libs.index.IndexEngine.get_loc\u001b[0;34m()\u001b[0m\n",
      "\u001b[0;32mpandas/_libs/hashtable_class_helper.pxi\u001b[0m in \u001b[0;36mpandas._libs.hashtable.PyObjectHashTable.get_item\u001b[0;34m()\u001b[0m\n",
      "\u001b[0;32mpandas/_libs/hashtable_class_helper.pxi\u001b[0m in \u001b[0;36mpandas._libs.hashtable.PyObjectHashTable.get_item\u001b[0;34m()\u001b[0m\n",
      "\u001b[0;31mKeyError\u001b[0m: 'attributes'"
     ]
    }
   ],
   "source": [
    "for i, row in data.iterrows():\n",
    "    image_path = os.path.join(\"/home/dsc_intern_1/ayush/Automated_Odometer_Reading_Model/Raw_Images\", row['filename'])\n",
    "    img = cv2.imread(image_path)\n",
    "    crop = img[row['y']:row['y']+row['height'],row['x']:row['x']+row['width']]\n",
    "    cv2.imwrite(os.path.join(\"/home/dsc_intern_1/ayush/Automated_Odometer_Reading_Model/Cropped_Images\", row['attributes']+'.jpg'), crop)"
   ]
  },
  {
   "cell_type": "code",
   "execution_count": 80,
   "metadata": {},
   "outputs": [],
   "source": [
    "# images"
   ]
  },
  {
   "cell_type": "markdown",
   "metadata": {},
   "source": [
    "                                  # SPLITTING THE CROPPED IMAGES IN TRAINING & TESTING"
   ]
  },
  {
   "cell_type": "code",
   "execution_count": 35,
   "metadata": {},
   "outputs": [],
   "source": [
    "# import shutil\n",
    "# import random"
   ]
  },
  {
   "cell_type": "code",
   "execution_count": 37,
   "metadata": {},
   "outputs": [
    {
     "name": "stdout",
     "output_type": "stream",
     "text": [
      "475\n"
     ]
    }
   ],
   "source": [
    "# path = \"/home/dsc_intern_1/ayush/Automated_Odometer_Reading_Model/Cropped_Images\"\n",
    "# print(len(os.listdir(\"/home/dsc_intern_1/ayush/Automated_Odometer_Reading_Model/Cropped_Images\")))"
   ]
  },
  {
   "cell_type": "code",
   "execution_count": 38,
   "metadata": {},
   "outputs": [],
   "source": [
    "# try:\n",
    "#     os.mkdir('/home/dsc_intern_1/ayush/Final_Model/training/')   \n",
    "#     os.mkdir('/home/dsc_intern_1/ayush/Final_Model/testing/')\n",
    "# except OSError:\n",
    "#     pass"
   ]
  },
  {
   "cell_type": "code",
   "execution_count": 39,
   "metadata": {},
   "outputs": [],
   "source": [
    "# def split_data(SOURCE, TRAINING, TESTING, SPLIT_SIZE):  \n",
    "\n",
    "#     cont = os.listdir(SOURCE)\n",
    "#     lenList = len(cont) \n",
    "#     shuffleList = random.sample(cont, lenList)\n",
    "#     slicePoint = round(len(shuffleList)*SPLIT_SIZE)\n",
    "#     for i in range(0, len(shuffleList[:slicePoint])):\n",
    "#         if os.path.getsize(SOURCE+cont[i]) !=0: \n",
    "#             shutil.copy(os.path.join(SOURCE,cont[i]), TRAINING)\n",
    "    \n",
    "#     for j in range(len(shuffleList[slicePoint:])):\n",
    "#         if os.path.getsize(SOURCE+cont[j]) !=0:\n",
    "#             shutil.copy(os.path.join(SOURCE,cont[j]), TESTING)"
   ]
  },
  {
   "cell_type": "code",
   "execution_count": 44,
   "metadata": {},
   "outputs": [],
   "source": [
    "# SOURCE_DIR = \"/home/dsc_intern_1/ayush/Automated_Odometer_Reading_Model/Cropped_Images/\"\n",
    "# TRAINING_DIR = \"/home/dsc_intern_1/ayush/Final_Model/TRAINING/\"\n",
    "# TESTING_DIR = \"/home/dsc_intern_1/ayush/Final_Model/TESTING/\"\n",
    "# split_size = .9\n",
    "# split_data(SOURCE_DIR, TRAINING_DIR, TESTING_DIR, split_size)"
   ]
  },
  {
   "cell_type": "code",
   "execution_count": 46,
   "metadata": {},
   "outputs": [
    {
     "name": "stdout",
     "output_type": "stream",
     "text": [
      "428\n",
      "47\n"
     ]
    }
   ],
   "source": [
    "# print(len(os.listdir(\"/home/dsc_intern_1/ayush/Final_Model/TRAINING/\")))\n",
    "# print(len(os.listdir(\"/home/dsc_intern_1/ayush/Final_Model/TESTING/\")))"
   ]
  },
  {
   "cell_type": "code",
   "execution_count": 47,
   "metadata": {},
   "outputs": [
    {
     "ename": "SyntaxError",
     "evalue": "unexpected EOF while parsing (<ipython-input-47-dfbdcac28242>, line 6)",
     "output_type": "error",
     "traceback": [
      "\u001b[0;36m  File \u001b[0;32m\"<ipython-input-47-dfbdcac28242>\"\u001b[0;36m, line \u001b[0;32m6\u001b[0m\n\u001b[0;31m    \u001b[0m\n\u001b[0m    ^\u001b[0m\n\u001b[0;31mSyntaxError\u001b[0m\u001b[0;31m:\u001b[0m unexpected EOF while parsing\n"
     ]
    }
   ],
   "source": [
    "# def get_data(path):\n",
    "#     all_images_as_array=[]\n",
    "#     label=[]\n",
    "#     for img in os.listdir(path):\n",
    "        \n",
    "        "
   ]
  },
  {
   "cell_type": "code",
   "execution_count": 78,
   "metadata": {},
   "outputs": [],
   "source": [
    "# path_to_train_set = \"/home/dsc_intern_1/ayush/Final_Model/training/\"\n",
    "# path_to_test_set = \"/home/dsc_intern_1/ayush/Final_Model/testing/\"\n",
    "# X_train,y_train = get_data (path_to_train_set)\n",
    "# X_test, y_test = get_data (path_to_test_set)"
   ]
  },
  {
   "cell_type": "code",
   "execution_count": 79,
   "metadata": {},
   "outputs": [],
   "source": [
    "# print('X_train set : ',X_train)\n",
    "# print('y_train set : ',y_train)\n",
    "# print('X_test set : ',X_test)\n",
    "# print('y_test set : ',y_test)"
   ]
  },
  {
   "cell_type": "code",
   "execution_count": null,
   "metadata": {},
   "outputs": [],
   "source": []
  },
  {
   "cell_type": "code",
   "execution_count": null,
   "metadata": {},
   "outputs": [],
   "source": []
  }
 ],
 "metadata": {
  "kernelspec": {
   "display_name": "Python 3",
   "language": "python",
   "name": "python3"
  },
  "language_info": {
   "codemirror_mode": {
    "name": "ipython",
    "version": 3
   },
   "file_extension": ".py",
   "mimetype": "text/x-python",
   "name": "python",
   "nbconvert_exporter": "python",
   "pygments_lexer": "ipython3",
   "version": "3.7.6"
  }
 },
 "nbformat": 4,
 "nbformat_minor": 4
}
